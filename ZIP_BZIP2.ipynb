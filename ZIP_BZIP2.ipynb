{
  "cells": [
    {
      "cell_type": "markdown",
      "metadata": {},
      "source": [
        "# 一筋縄ではいかない　GoでBZIP2を解凍"
      ]
    },
    {
      "cell_type": "markdown",
      "metadata": {
        "id": "LOE1iCHvdpXp"
      },
      "source": [
        "大量のテキストファイルを処理する時、何百万ものファイルをファイルシステムに置いたままにしているとなにかと不便なので、zipにまとめてから処理することがあります。そんな時に、zipの圧縮方式をbzip2にした場合の、Go言語で解凍する方法です。一筋縄ではいきませんでした。\n"
      ]
    },
    {
      "cell_type": "code",
      "execution_count": null,
      "metadata": {},
      "outputs": [],
      "source": []
    },
    {
      "cell_type": "markdown",
      "metadata": {
        "id": "tOlDZlc1igFR"
      },
      "source": [
        "まずサンプルを用意します。"
      ]
    },
    {
      "cell_type": "code",
      "execution_count": 1,
      "metadata": {
        "colab": {
          "base_uri": "https://localhost:8080/"
        },
        "id": "xRS0bLcBhy0x",
        "outputId": "193afcc6-0681-4a24-f18f-34f96c1f4b98"
      },
      "outputs": [
        {
          "name": "stdout",
          "output_type": "stream",
          "text": [
            "  724  4977 38134 man.txt\n"
          ]
        }
      ],
      "source": [
        "!man man > man.txt\n",
        "!wc man.txt"
      ]
    },
    {
      "cell_type": "markdown",
      "metadata": {
        "id": "7PMJzhY3ipe2"
      },
      "source": [
        "これをzipfileモジュールを使ってZIP_BZIP2でman.zipにアーカイブします。"
      ]
    },
    {
      "cell_type": "code",
      "execution_count": 2,
      "metadata": {
        "colab": {
          "base_uri": "https://localhost:8080/"
        },
        "id": "6zFNan5_AHpd",
        "outputId": "7275c81a-f9d9-410a-c2a1-b8311efc73cc"
      },
      "outputs": [
        {
          "name": "stdout",
          "output_type": "stream",
          "text": [
            "Archive:  man.zip\n",
            "Zip file size: 11471 bytes, number of entries: 1\n",
            "-rw-r--r--  4.6 unx    38134 b- bzp2 21-Oct-06 08:58 man.txt\n",
            "1 file, 38134 bytes uncompressed, 11359 bytes compressed:  70.2%\n"
          ]
        }
      ],
      "source": [
        "from zipfile import ZipFile, ZIP_BZIP2\n",
        "with ZipFile('man.zip', 'w', compression=ZIP_BZIP2, compresslevel=9) as zfile:\n",
        "    zfile.write('man.txt', 'man.txt')\n",
        "\n",
        "!zipinfo man.zip"
      ]
    },
    {
      "cell_type": "markdown",
      "metadata": {
        "id": "k_XpaYfVjnew"
      },
      "source": [
        "無事にアーカイブできました。"
      ]
    },
    {
      "cell_type": "markdown",
      "metadata": {
        "id": "iH1B9KDqjuv9"
      },
      "source": [
        "次にGo言語をインストールします。"
      ]
    },
    {
      "cell_type": "code",
      "execution_count": 3,
      "metadata": {
        "colab": {
          "base_uri": "https://localhost:8080/"
        },
        "id": "9pEAhwxiICvr",
        "outputId": "c6395b3a-947a-4f46-8322-4046bc71d81b"
      },
      "outputs": [
        {
          "name": "stdout",
          "output_type": "stream",
          "text": [
            "--2021-10-06 08:58:27--  https://golang.org/dl/go1.17.1.linux-amd64.tar.gz\n",
            "Resolving golang.org (golang.org)... 74.125.142.141, 2607:f8b0:400e:c08::8d\n",
            "Connecting to golang.org (golang.org)|74.125.142.141|:443... connected.\n",
            "HTTP request sent, awaiting response... 302 Found\n",
            "Location: https://dl.google.com/go/go1.17.1.linux-amd64.tar.gz [following]\n",
            "--2021-10-06 08:58:27--  https://dl.google.com/go/go1.17.1.linux-amd64.tar.gz\n",
            "Resolving dl.google.com (dl.google.com)... 74.125.195.93, 74.125.195.136, 74.125.195.91, ...\n",
            "Connecting to dl.google.com (dl.google.com)|74.125.195.93|:443... connected.\n",
            "HTTP request sent, awaiting response... 200 OK\n",
            "Length: 134784143 (129M) [application/x-gzip]\n",
            "Saving to: ‘go1.17.1.linux-amd64.tar.gz’\n",
            "\n",
            "go1.17.1.linux-amd6 100%[===================>] 128.54M   208MB/s    in 0.6s    \n",
            "\n",
            "2021-10-06 08:58:27 (208 MB/s) - ‘go1.17.1.linux-amd64.tar.gz’ saved [134784143/134784143]\n",
            "\n"
          ]
        }
      ],
      "source": [
        "!wget https://golang.org/dl/go1.17.1.linux-amd64.tar.gz\n",
        "!tar -C /usr/local -xzf go1.17.1.linux-amd64.tar.gz\n",
        "\n",
        "import os\n",
        "os.environ['PATH'] += \":/usr/local/go/bin\""
      ]
    },
    {
      "cell_type": "code",
      "execution_count": 4,
      "metadata": {
        "colab": {
          "base_uri": "https://localhost:8080/"
        },
        "id": "WowJaQPYkCtB",
        "outputId": "2b4e6189-8bc3-4773-9043-d179c9be9944"
      },
      "outputs": [
        {
          "name": "stdout",
          "output_type": "stream",
          "text": [
            "go version go1.17.1 linux/amd64\n"
          ]
        }
      ],
      "source": [
        "!go version"
      ]
    },
    {
      "cell_type": "markdown",
      "metadata": {
        "id": "EEjmqIrfkNoZ"
      },
      "source": [
        "それではgo言語でzipの中身を覗いてみましょう。まずは以下でunzip.goファイルにプログラムを書き込みます。"
      ]
    },
    {
      "cell_type": "code",
      "execution_count": 5,
      "metadata": {
        "colab": {
          "base_uri": "https://localhost:8080/"
        },
        "id": "FNaOrtqLBpu8",
        "outputId": "3eff9303-bbbf-4983-857f-74ef16d6389f"
      },
      "outputs": [
        {
          "name": "stdout",
          "output_type": "stream",
          "text": [
            "Writing unzip.go\n"
          ]
        }
      ],
      "source": [
        "%%writefile unzip.go\n",
        "package main\n",
        "\n",
        "import (\n",
        "    \"archive/zip\"\n",
        "    \"fmt\"\n",
        "    \"log\"\n",
        ")\n",
        "\n",
        "func main() {\n",
        "    zfile, _ := zip.OpenReader(\"man.zip\")\n",
        "    defer zfile.Close()\n",
        "\n",
        "    for _, f := range zfile.File {\n",
        "        _, err := f.Open()\n",
        "        if err != nil {\n",
        "            fmt.Println(f.Method)\n",
        "            log.Fatal(err)\n",
        "        }\n",
        "        fmt.Println(f.FileInfo().Name())\n",
        "    }\n",
        "}"
      ]
    },
    {
      "cell_type": "markdown",
      "metadata": {
        "id": "X7EJS4lZk8zi"
      },
      "source": [
        "早速実行！"
      ]
    },
    {
      "cell_type": "code",
      "execution_count": 6,
      "metadata": {
        "colab": {
          "base_uri": "https://localhost:8080/"
        },
        "id": "nM5j3xHMCAnM",
        "outputId": "f6113b94-333f-42d0-c680-1c489b62d50d"
      },
      "outputs": [
        {
          "name": "stdout",
          "output_type": "stream",
          "text": [
            "12\n",
            "2021/10/06 08:58:53 zip: unsupported compression algorithm\n",
            "exit status 1\n"
          ]
        }
      ],
      "source": [
        "!go run unzip.go"
      ]
    },
    {
      "cell_type": "markdown",
      "metadata": {
        "id": "KfPJ-l7HlC61"
      },
      "source": [
        "そんな圧縮方式知らぬと怒られました。\n",
        "実はこの時点ですでに何日もかけて大量のテキストファイルをzipにアーカイブした後だったので、やべってなりました。調べた結果、[マニュアル](https://pkg.go.dev/archive/zip#RegisterDecompressor)にこんな記述が！\n",
        "```\n",
        "func RegisterDecompressor(method uint16, dcomp Decompressor)\n",
        "RegisterDecompressor allows custom decompressors for a specified method ID. The common methods Store and Deflate are built in.\n",
        "```\n",
        "どうやらカスタム解凍器を設定できるようです。しかし、圧倒的に情報が少ない。method uint16とは何か？\n",
        "調べたところ、zipアーカイブではファイル毎に圧縮方式を指定できて、圧縮方式毎にIDが決まっているとのこと。ここで[神記事](https://qiita.com/shibukawa/items/67ef687cc28b6a6e56ed)発見。bzip2は12番！\n",
        "\n",
        "実は後付けですが上記のプログラムでこっそりメソッド番号を出力するコードを忍ばせてありました。ちゃんと12が出力されていますね。\n",
        "\n",
        "次はdecomp Decompressorですが、これにはcompress/bzip2が使えそう。[神記事](https://qiita.com/shibukawa/items/67ef687cc28b6a6e56ed)によると\n",
        "> なお、登録する関数はio.ReadCloserを返す必要がありますが、lz4.Readerは単なるio.Readerで、Close()メソッドを持っていません。ioutil.NopCloser()を使うと、ダミーのClose()メソッドを増やしてくれますので使えるようになります。\n",
        "\n",
        "とのことで、bzip2.Readerも同様に単なるio.Readerのようなので、同様の処置が必要。ただGo1.17ではioutil.NopCloser()ではなくio.NopCloser()を使う必要があるようです。\n",
        "\n",
        "とうわけで完成したプログラムがこちら\n"
      ]
    },
    {
      "cell_type": "code",
      "execution_count": 7,
      "metadata": {
        "colab": {
          "base_uri": "https://localhost:8080/"
        },
        "id": "9V3KqZnqFdAu",
        "outputId": "18d73b33-83dc-48cd-9c78-a110d254da91"
      },
      "outputs": [
        {
          "name": "stdout",
          "output_type": "stream",
          "text": [
            "Writing unzip_fixed.go\n"
          ]
        }
      ],
      "source": [
        "%%writefile unzip_fixed.go\n",
        "package main\n",
        "\n",
        "import (\n",
        "    \"archive/zip\"\n",
        "    \"compress/bzip2\"\n",
        "    \"fmt\"\n",
        "    \"io\"\n",
        "    \"log\"\n",
        ")\n",
        "\n",
        "func main() {\n",
        "    zfile, _ := zip.OpenReader(\"man.zip\")\n",
        "    defer zfile.Close()\n",
        "\n",
        "\tzfile.RegisterDecompressor(12, func(in io.Reader) io.ReadCloser {\n",
        "\t\treturn io.NopCloser(bzip2.NewReader(in))\n",
        "\t})\n",
        "\n",
        "    for _, f := range zfile.File {\n",
        "        rc, err := f.Open()\n",
        "        if err != nil {\n",
        "            log.Fatal(err)\n",
        "        }\n",
        "        fmt.Println(f.FileInfo().Name())\n",
        "        if !f.FileInfo().IsDir() {\n",
        "            buf := make([]byte, f.UncompressedSize)\n",
        "            n, _ := io.ReadFull(rc, buf)\n",
        "            fmt.Println(n)\n",
        "        }\n",
        "    }\n",
        "}"
      ]
    },
    {
      "cell_type": "code",
      "execution_count": 8,
      "metadata": {
        "colab": {
          "base_uri": "https://localhost:8080/"
        },
        "id": "q-Omq02kF3h7",
        "outputId": "1287a9d5-8df2-4d56-bfd4-227b720b0a06"
      },
      "outputs": [
        {
          "name": "stdout",
          "output_type": "stream",
          "text": [
            "man.txt\n",
            "38134\n"
          ]
        }
      ],
      "source": [
        "!go run unzip_fixed.go"
      ]
    },
    {
      "cell_type": "markdown",
      "metadata": {
        "id": "fnJH8ntOyEkF"
      },
      "source": [
        "ちゃんと解凍できました！\n",
        "\n",
        "しかし、[神記事](https://qiita.com/shibukawa/items/67ef687cc28b6a6e56ed)がなければ詰むところでした。感謝！"
      ]
    }
  ],
  "metadata": {
    "colab": {
      "collapsed_sections": [],
      "name": "ZIP_BZIP2.ipynb",
      "provenance": []
    },
    "kernelspec": {
      "display_name": "Python 3",
      "name": "python3"
    },
    "language_info": {
      "name": "python"
    }
  },
  "nbformat": 4,
  "nbformat_minor": 0
}
